{
 "cells": [
  {
   "cell_type": "markdown",
   "id": "7c7eeec6-0b75-4878-a0f1-f49f42e2ebe9",
   "metadata": {},
   "source": [
    "**IMPORTING LIBRARIES**"
   ]
  },
  {
   "cell_type": "code",
   "execution_count": 2,
   "id": "5a497a90-e1b4-4605-9dc8-eabaa0fd58dd",
   "metadata": {},
   "outputs": [],
   "source": [
    "import pandas as pd \n",
    "import numpy as np \n",
    "import matplotlib.pyplot as plt \n",
    "import seaborn as sns "
   ]
  },
  {
   "cell_type": "markdown",
   "id": "f3dc9c04-78eb-4a2b-8f6f-a66919284d87",
   "metadata": {},
   "source": [
    "**LOADING THE DATASET**"
   ]
  },
  {
   "cell_type": "code",
   "execution_count": 6,
   "id": "4147186d-4ca4-4f74-bbf7-78c47d8a7034",
   "metadata": {},
   "outputs": [],
   "source": [
    "data = pd.read_csv(r\"C:\\Users\\fastf\\Downloads\\Rainfall dataset\\district wise rainfall normal.csv\")\n"
   ]
  },
  {
   "cell_type": "markdown",
   "id": "6e74bcab-86fb-4515-9306-844363ff37b2",
   "metadata": {},
   "source": [
    "**DATA PREPROCESSING**"
   ]
  },
  {
   "cell_type": "code",
   "execution_count": 8,
   "id": "03225722-dceb-4d73-aeae-f60156520c45",
   "metadata": {},
   "outputs": [
    {
     "data": {
      "text/html": [
       "<div>\n",
       "<style scoped>\n",
       "    .dataframe tbody tr th:only-of-type {\n",
       "        vertical-align: middle;\n",
       "    }\n",
       "\n",
       "    .dataframe tbody tr th {\n",
       "        vertical-align: top;\n",
       "    }\n",
       "\n",
       "    .dataframe thead th {\n",
       "        text-align: right;\n",
       "    }\n",
       "</style>\n",
       "<table border=\"1\" class=\"dataframe\">\n",
       "  <thead>\n",
       "    <tr style=\"text-align: right;\">\n",
       "      <th></th>\n",
       "      <th>STATE_UT_NAME</th>\n",
       "      <th>DISTRICT</th>\n",
       "      <th>JAN</th>\n",
       "      <th>FEB</th>\n",
       "      <th>MAR</th>\n",
       "      <th>APR</th>\n",
       "      <th>MAY</th>\n",
       "      <th>JUN</th>\n",
       "      <th>JUL</th>\n",
       "      <th>AUG</th>\n",
       "      <th>SEP</th>\n",
       "      <th>OCT</th>\n",
       "      <th>NOV</th>\n",
       "      <th>DEC</th>\n",
       "      <th>ANNUAL</th>\n",
       "      <th>Jan-Feb</th>\n",
       "      <th>Mar-May</th>\n",
       "      <th>Jun-Sep</th>\n",
       "      <th>Oct-Dec</th>\n",
       "    </tr>\n",
       "  </thead>\n",
       "  <tbody>\n",
       "    <tr>\n",
       "      <th>0</th>\n",
       "      <td>ANDAMAN And NICOBAR ISLANDS</td>\n",
       "      <td>NICOBAR</td>\n",
       "      <td>107.3</td>\n",
       "      <td>57.9</td>\n",
       "      <td>65.2</td>\n",
       "      <td>117.0</td>\n",
       "      <td>358.5</td>\n",
       "      <td>295.5</td>\n",
       "      <td>285.0</td>\n",
       "      <td>271.9</td>\n",
       "      <td>354.8</td>\n",
       "      <td>326.0</td>\n",
       "      <td>315.2</td>\n",
       "      <td>250.9</td>\n",
       "      <td>2805.2</td>\n",
       "      <td>165.2</td>\n",
       "      <td>540.7</td>\n",
       "      <td>1207.2</td>\n",
       "      <td>892.1</td>\n",
       "    </tr>\n",
       "    <tr>\n",
       "      <th>1</th>\n",
       "      <td>ANDAMAN And NICOBAR ISLANDS</td>\n",
       "      <td>SOUTH ANDAMAN</td>\n",
       "      <td>43.7</td>\n",
       "      <td>26.0</td>\n",
       "      <td>18.6</td>\n",
       "      <td>90.5</td>\n",
       "      <td>374.4</td>\n",
       "      <td>457.2</td>\n",
       "      <td>421.3</td>\n",
       "      <td>423.1</td>\n",
       "      <td>455.6</td>\n",
       "      <td>301.2</td>\n",
       "      <td>275.8</td>\n",
       "      <td>128.3</td>\n",
       "      <td>3015.7</td>\n",
       "      <td>69.7</td>\n",
       "      <td>483.5</td>\n",
       "      <td>1757.2</td>\n",
       "      <td>705.3</td>\n",
       "    </tr>\n",
       "    <tr>\n",
       "      <th>2</th>\n",
       "      <td>ANDAMAN And NICOBAR ISLANDS</td>\n",
       "      <td>N &amp; M ANDAMAN</td>\n",
       "      <td>32.7</td>\n",
       "      <td>15.9</td>\n",
       "      <td>8.6</td>\n",
       "      <td>53.4</td>\n",
       "      <td>343.6</td>\n",
       "      <td>503.3</td>\n",
       "      <td>465.4</td>\n",
       "      <td>460.9</td>\n",
       "      <td>454.8</td>\n",
       "      <td>276.1</td>\n",
       "      <td>198.6</td>\n",
       "      <td>100.0</td>\n",
       "      <td>2913.3</td>\n",
       "      <td>48.6</td>\n",
       "      <td>405.6</td>\n",
       "      <td>1884.4</td>\n",
       "      <td>574.7</td>\n",
       "    </tr>\n",
       "    <tr>\n",
       "      <th>3</th>\n",
       "      <td>ARUNACHAL PRADESH</td>\n",
       "      <td>LOHIT</td>\n",
       "      <td>42.2</td>\n",
       "      <td>80.8</td>\n",
       "      <td>176.4</td>\n",
       "      <td>358.5</td>\n",
       "      <td>306.4</td>\n",
       "      <td>447.0</td>\n",
       "      <td>660.1</td>\n",
       "      <td>427.8</td>\n",
       "      <td>313.6</td>\n",
       "      <td>167.1</td>\n",
       "      <td>34.1</td>\n",
       "      <td>29.8</td>\n",
       "      <td>3043.8</td>\n",
       "      <td>123.0</td>\n",
       "      <td>841.3</td>\n",
       "      <td>1848.5</td>\n",
       "      <td>231.0</td>\n",
       "    </tr>\n",
       "    <tr>\n",
       "      <th>4</th>\n",
       "      <td>ARUNACHAL PRADESH</td>\n",
       "      <td>EAST SIANG</td>\n",
       "      <td>33.3</td>\n",
       "      <td>79.5</td>\n",
       "      <td>105.9</td>\n",
       "      <td>216.5</td>\n",
       "      <td>323.0</td>\n",
       "      <td>738.3</td>\n",
       "      <td>990.9</td>\n",
       "      <td>711.2</td>\n",
       "      <td>568.0</td>\n",
       "      <td>206.9</td>\n",
       "      <td>29.5</td>\n",
       "      <td>31.7</td>\n",
       "      <td>4034.7</td>\n",
       "      <td>112.8</td>\n",
       "      <td>645.4</td>\n",
       "      <td>3008.4</td>\n",
       "      <td>268.1</td>\n",
       "    </tr>\n",
       "  </tbody>\n",
       "</table>\n",
       "</div>"
      ],
      "text/plain": [
       "                 STATE_UT_NAME       DISTRICT    JAN   FEB    MAR    APR  \\\n",
       "0  ANDAMAN And NICOBAR ISLANDS        NICOBAR  107.3  57.9   65.2  117.0   \n",
       "1  ANDAMAN And NICOBAR ISLANDS  SOUTH ANDAMAN   43.7  26.0   18.6   90.5   \n",
       "2  ANDAMAN And NICOBAR ISLANDS  N & M ANDAMAN   32.7  15.9    8.6   53.4   \n",
       "3            ARUNACHAL PRADESH          LOHIT   42.2  80.8  176.4  358.5   \n",
       "4            ARUNACHAL PRADESH     EAST SIANG   33.3  79.5  105.9  216.5   \n",
       "\n",
       "     MAY    JUN    JUL    AUG    SEP    OCT    NOV    DEC  ANNUAL  Jan-Feb  \\\n",
       "0  358.5  295.5  285.0  271.9  354.8  326.0  315.2  250.9  2805.2    165.2   \n",
       "1  374.4  457.2  421.3  423.1  455.6  301.2  275.8  128.3  3015.7     69.7   \n",
       "2  343.6  503.3  465.4  460.9  454.8  276.1  198.6  100.0  2913.3     48.6   \n",
       "3  306.4  447.0  660.1  427.8  313.6  167.1   34.1   29.8  3043.8    123.0   \n",
       "4  323.0  738.3  990.9  711.2  568.0  206.9   29.5   31.7  4034.7    112.8   \n",
       "\n",
       "   Mar-May  Jun-Sep  Oct-Dec  \n",
       "0    540.7   1207.2    892.1  \n",
       "1    483.5   1757.2    705.3  \n",
       "2    405.6   1884.4    574.7  \n",
       "3    841.3   1848.5    231.0  \n",
       "4    645.4   3008.4    268.1  "
      ]
     },
     "execution_count": 8,
     "metadata": {},
     "output_type": "execute_result"
    }
   ],
   "source": [
    "data.head()"
   ]
  },
  {
   "cell_type": "code",
   "execution_count": 11,
   "id": "26f314c8-91c5-4467-8ed8-c76f5bc944b5",
   "metadata": {},
   "outputs": [
    {
     "data": {
      "text/plain": [
       "STATE_UT_NAME    0\n",
       "DISTRICT         0\n",
       "JAN              0\n",
       "FEB              0\n",
       "MAR              0\n",
       "APR              0\n",
       "MAY              0\n",
       "JUN              0\n",
       "JUL              0\n",
       "AUG              0\n",
       "SEP              0\n",
       "OCT              0\n",
       "NOV              0\n",
       "DEC              0\n",
       "ANNUAL           0\n",
       "Jan-Feb          0\n",
       "Mar-May          0\n",
       "Jun-Sep          0\n",
       "Oct-Dec          0\n",
       "dtype: int64"
      ]
     },
     "execution_count": 11,
     "metadata": {},
     "output_type": "execute_result"
    }
   ],
   "source": [
    "data.isnull().sum()"
   ]
  },
  {
   "cell_type": "code",
   "execution_count": 12,
   "id": "09a0ef46-d96d-4423-bd00-e73f75d98168",
   "metadata": {},
   "outputs": [
    {
     "data": {
      "text/plain": [
       "Index(['STATE_UT_NAME', 'DISTRICT', 'JAN', 'FEB', 'MAR', 'APR', 'MAY', 'JUN',\n",
       "       'JUL', 'AUG', 'SEP', 'OCT', 'NOV', 'DEC', 'ANNUAL', 'Jan-Feb',\n",
       "       'Mar-May', 'Jun-Sep', 'Oct-Dec'],\n",
       "      dtype='object')"
      ]
     },
     "execution_count": 12,
     "metadata": {},
     "output_type": "execute_result"
    }
   ],
   "source": [
    "data.columns"
   ]
  },
  {
   "cell_type": "code",
   "execution_count": 13,
   "id": "60483abb-d0e4-43bf-9417-30edb128ce90",
   "metadata": {},
   "outputs": [
    {
     "data": {
      "text/plain": [
       "array(['NICOBAR', 'SOUTH ANDAMAN', 'N & M ANDAMAN', 'LOHIT', 'EAST SIANG',\n",
       "       'SUBANSIRI F.D', 'TIRAP', 'ANJAW (LOHIT)', 'LOWER DIBANG',\n",
       "       'CHANGLANG', 'PAPUM PARE', 'LOW SUBANSIRI', 'UPPER SIANG',\n",
       "       'WEST SIANG', 'DIBANG VALLEY', 'WEST KAMENG', 'EAST KAMENG',\n",
       "       'TAWANG(W KAME', 'KURUNG KUMEY', 'CACHAR', 'DARRANG', 'GOALPARA',\n",
       "       'KAMRUP', 'LAKHIMPUR', 'NORTH CACHAR', 'NAGAON', 'SIVASAGAR',\n",
       "       'BARPETA', 'DHUBRI', 'DIBRUGARH', 'JORHAT', 'KARIMGANJ',\n",
       "       'KOKRAJHAR', 'SHONITPUR', 'GOLAGHAT', 'TINSUKIA', 'HAILAKANDI',\n",
       "       'DHEMAJI(LAKHI', 'KARBI ANGLONG', 'UDALGURI(DARA', 'KAMRUP METROP',\n",
       "       'CHIRANG(BONGAI', 'BAKSA BARPETA', 'BONGAIGAON', 'MORIGAON',\n",
       "       'NALBARI', 'EAST KHASI HI', 'JAINTIA HILLS', 'EAST GARO HIL',\n",
       "       'RI-BHOI', 'SOUTH GARO HI', 'W KHASI HILL', 'WEST GARO HIL',\n",
       "       'IMPHAL EAST', 'SENAPATI', 'TAMENGLONG', 'CHANDEL', 'UKHRUL',\n",
       "       'THOUBAL', 'BISHNUPUR', 'IMPHAL WEST', 'CHURACHANDPUR', 'AIZAWL',\n",
       "       'CHAMPHAI', 'KOLASIB', 'LUNGLEI', 'CHHIMTUIPUI', 'LAWNGTLAI',\n",
       "       'MAMIT', 'SAIHA', 'SERCHHIP', 'KOHIMA', 'TUENSANG', 'MOKOKCHUNG',\n",
       "       'DIMAPUR', 'WOKHA', 'MON', 'ZUNHEBOTO', 'PHEK', 'KEPHRIE',\n",
       "       'LONGLENG', 'PEREN', 'NORTH TRIPURA', 'SOUTH TRIPURA',\n",
       "       'WEST TRIPURA', 'DHALAI', 'COOCH BEHAR', 'DARJEELING',\n",
       "       'JALPAIGURI', 'MALDA', 'SOUTH DINAJPUR', 'NORTH DINAJPUR',\n",
       "       'NORTH SIKKIM', 'EAST SIKKIM', 'WEST SIKKIM', 'SOUTH SIKKIM',\n",
       "       'BANKURA', 'BIRBHUM', 'BURDWAN', 'HOOGHLY', 'HOWRAH', 'PURULIA',\n",
       "       'MURSHIDABAD', 'NADIA', 'NORTH 24 PARG', 'SOUTH 24 PARG',\n",
       "       'EAST MIDNAPOR', 'WEST MIDNAPOR', 'KOLKATA', 'BALASORE',\n",
       "       'BOLANGIR', 'KANDHAMAL/PHU', 'CUTTACK', 'DHENKANAL', 'GANJAM',\n",
       "       'KALAHANDI', 'KEONDJHARGARH', 'KORAPUT', 'MAYURBHANJ', 'PURI',\n",
       "       'SAMBALPUR', 'SUNDARGARH', 'BHADRAK', 'JAJPUR', 'KENDRAPARA',\n",
       "       'ANGUL', 'NAWAPARA', 'MALKANGIRI', 'NAWARANGPUR', 'NAYAGARH',\n",
       "       'KHURDA', 'BARGARH', 'JHARSUGUDA', 'DEOGARH', 'RAYAGADA',\n",
       "       'GAJAPATI', 'JAGATSINGHAPU', 'BOUDHGARH', 'SONEPUR', 'BOKARO',\n",
       "       'DHANBAD', 'DUMKA', 'HAZARIBAG', 'PALAMU', 'RANCHI', 'SAHIBGANJ',\n",
       "       'WEST SINGHBHUM', 'DEOGHAR', 'GIRIDIH', 'GODDA', 'GUMLA',\n",
       "       'LOHARDAGA', 'CHATRA', 'KODERMA', 'PAKUR', 'EAST SINGHBHU',\n",
       "       'GARHWA', 'SERAIKELA-KHA', 'JAMTARA', 'LATEHAR', 'SIMDEGA',\n",
       "       'KHUNTI(RANCHI', 'RAMGARH', 'BHAGALPUR', 'EAST CHAMPARAN',\n",
       "       'DARBHANGA', 'GAYA', 'MUNGER', 'MUZAFFARPUR', 'WEST CHAMPARAN',\n",
       "       'PURNEA', 'GOPALGANJ', 'MADHUBANI', 'AURANGABAD', 'BEGUSARAI',\n",
       "       'BHOJPUR', 'NALANDA', 'PATNA', 'KATIHAR', 'KHAGARIA', 'SARAN',\n",
       "       'MADHEPURA', 'NAWADA', 'ROHTAS', 'SAMASTIPUR', 'SITAMARHI',\n",
       "       'SIWAN', 'VAISHALI', 'JAHANABAD', 'BUXAR', 'ARARIA', 'BANKA',\n",
       "       'BHABUA', 'JAMUI', 'KISHANGANJ', 'SHEIKHPURA', 'SUPAUL',\n",
       "       'LAKHISARAI', 'SHEOHAR', 'ARWAL', 'SAHARSA', 'ALLAHABAD',\n",
       "       'AZAMGARH', 'BAHRAICH', 'BALLIA', 'BANDA', 'BARABANKI', 'BASTI',\n",
       "       'DEORIA', 'FAIZABAD', 'FARRUKHABAD', 'FATEHPUR', 'GHAZIPUR',\n",
       "       'GONDA', 'GORAKHPUR', 'HARDOI', 'JAUNPUR', 'KANPUR NAGAR',\n",
       "       'KHERI LAKHIMP', 'LUCKNOW', 'MIRZAPUR', 'PRATAPGARH', 'RAE BARELI',\n",
       "       'SITAPUR', 'SULTANPUR', 'UNNAO', 'VARANASI', 'SONBHADRA',\n",
       "       'MAHARAJGANJ', 'MAU', 'SIDDHARTH NGR', 'KUSHINAGAR',\n",
       "       'AMBEDKAR NAGAR', 'KANNAUJ', 'BALRAMPUR', 'KAUSHAMBI',\n",
       "       'SAHUJI MAHARA', 'KANPUR DEHAT', 'CHANDAULI', 'SANT KABIR NGR',\n",
       "       'SANT RAVIDAS', 'SHRAVASTI NGR', 'AGRA', 'ALIGARH', 'BAREILLY',\n",
       "       'BIJNOR', 'BADAUN', 'BULANDSHAHAR', 'ETAH', 'ETAWAH', 'HAMIRPUR',\n",
       "       'JALAUN', 'JHANSI', 'LALITPUR', 'MAINPURI', 'MATHURA', 'MEERUT',\n",
       "       'MORADABAD', 'MUZAFFARNAGAR', 'PILIBHIT', 'RAMPUR', 'SAHARANPUR',\n",
       "       'SHAHJAHANPUR', 'GHAZIABAD', 'FIROZABAD', 'MAHOBA',\n",
       "       'MAHAMAYA NAGA', 'AURAIYA', 'BAGPAT', 'JYOTIBA PHULE',\n",
       "       'GAUTAM BUDDHA', 'KANSHIRAM NAG', 'ALMORA', 'CHAMOLI', 'DEHRADUN',\n",
       "       'GARHWAL PAURI', 'NAINITAL', 'PITHORAGARH', 'GARHWAL TEHRI',\n",
       "       'UTTARKASHI', 'HARIDWAR', 'CHAMPAWAT', 'RUDRAPRAYAG',\n",
       "       'UDHAM SINGH N', 'BAGESHWAR', 'AMBALA', 'GURGAON', 'HISAR', 'JIND',\n",
       "       'KARNAL', 'MAHENDRAGARH', 'ROHTAK', 'BHIWANI', 'FARIDABAD',\n",
       "       'KURUKSHETRA', 'SIRSA', 'SONEPAT(RTK)', 'YAMUNANAGAR', 'KAITHAL',\n",
       "       'PANIPAT', 'REWARI', 'FATEHABAD', 'JHAJJAR', 'PANCHKULA', 'MEWAT',\n",
       "       'PALWAL(FRD)', 'CHANDIGARH', 'NEW DELHI', 'CENTRAL DELHI',\n",
       "       'EAST DELHI', 'NORTH DELHI', 'NE DELHI', 'SW DELHI', 'NW DELHI',\n",
       "       'SOUTH DELHI', 'WEST DELHI', 'AMRITSAR', 'BATHINDA', 'FEROZEPUR',\n",
       "       'GURDASPUR', 'HOSHIARPUR', 'JALANDHAR', 'KAPURTHALA', 'LUDHIANA',\n",
       "       'PATIALA', 'RUPNAGAR', 'SANGRUR', 'FARIDKOT', 'MOGA', 'NAWANSHAHR',\n",
       "       'FATEHGARH SAH', 'MUKTSAR', 'MANSA', 'BARNALA', 'SAS NAGAR(MGA)',\n",
       "       'TARN TARAN', 'BILASPUR', 'CHAMBA', 'KANGRA', 'KINNAUR', 'KULLU',\n",
       "       'LAHUL & SPITI', 'MANDI', 'SHIMLA', 'SIRMAUR', 'SOLAN', 'UNA',\n",
       "       'ANANTNAG', 'BARAMULLA', 'DODA', 'JAMMU', 'KATHUA', 'LADAKH (LEH)',\n",
       "       'UDHAMPUR', 'BADGAM', 'KUPWARA', 'PULWAMA', 'SRINAGAR', 'KARGIL',\n",
       "       'POONCH', 'RAJOURI', 'BANDIPORE', 'GANDERWAL', 'KULGAM/(ANT)',\n",
       "       'SHOPAN', 'SAMBA', 'KISTWAR', 'REASI', 'RAMBAN(DDA)', 'BARMER',\n",
       "       'BIKANER', 'CHURU', 'SRI GANGANAGA', 'JAISALMER', 'JALORE',\n",
       "       'JODHPUR', 'NAGAUR', 'PALI', 'HANUMANGARH', 'AJMER', 'ALWAR',\n",
       "       'BANSWARA', 'BHARATPUR', 'BHILWARA', 'BUNDI', 'CHITTORGARH',\n",
       "       'DUNGARPUR', 'JAIPUR', 'JHALAWAR', 'JHUNJHUNU', 'KOTA',\n",
       "       'SAWAI MADHOPUR', 'SIKAR', 'SIROHI', 'TONK', 'UDAIPUR', 'DHOLPUR',\n",
       "       'BARAN', 'DAUSA', 'RAJSAMAND', 'KARAULI', 'PRATAPGARH(CHT',\n",
       "       'BETUL', 'VIDISHA', 'BHIND', 'DATIA', 'DEWAS', 'DHAR', 'GUNA',\n",
       "       'GWALIOR', 'HOSHANGABAD', 'INDORE', 'JHABUA', 'MANDSAUR', 'MORENA',\n",
       "       'KHANDWA', 'KHARGONE', 'RAISEN', 'RAJGARH', 'RATLAM', 'SEHORE',\n",
       "       'SHAJAPUR', 'SHIVPURI', 'UJJAIN', 'BHOPAL', 'HARDA', 'NEEMUCH',\n",
       "       'SHEOPUR', 'BARWANI', 'ASHOKNAGAR(GNA', 'BURHANPUR',\n",
       "       'ALIRAJPUR(JBA)', 'BALAGHAT', 'CHHATARPUR', 'CHHINDWARA',\n",
       "       'JABALPUR', 'MANDLA', 'NARSINGHPUR', 'PANNA', 'REWA', 'SAGAR',\n",
       "       'SATNA', 'SEONI', 'SHAHDOL', 'SIDHI', 'TIKAMGARH', 'KATNI',\n",
       "       'DINDORI', 'UMARIA', 'DAMOH', 'ANUPPUR(SHAHD', 'SINGRAULI',\n",
       "       'AHMEDABAD', 'BANASKANTHA', 'BARODA', 'BHARUCH', 'VALSAD', 'DANGS',\n",
       "       'KHEDA', 'MEHSANA', 'PANCHMAHALS', 'SABARKANTHA', 'SURAT',\n",
       "       'GANDHINAGAR', 'NARMADA(BRC)', 'NAVSARI(VSD)', 'ANAND(KHR)',\n",
       "       'PATAN(MHSN)', 'DAHOD(PNML)', 'TAPI(SRT)', 'AMRELI', 'BHAVNAGAR',\n",
       "       'JAMNAGAR', 'JUNAGADH', 'KUTCH', 'RAJKOT', 'SURENDRANAGAR',\n",
       "       'PORBANDAR', 'DNH', 'DAMAN', 'DIU', 'MUMBAI CITY', 'RAIGAD',\n",
       "       'RATNAGIRI', 'THANE', 'SINDHUDURG', 'MUMBAI SUB', 'NORTH GOA',\n",
       "       'SOUTH GOA', 'AHMEDNAGAR', 'DHULE', 'JALGAON', 'KOLHAPUR',\n",
       "       'NASHIK', 'PUNE', 'SANGLI', 'SATARA', 'SOLAPUR', 'NANDURBAR',\n",
       "       'BEED', 'NANDED', 'OSMANABAD', 'PARBHANI', 'LATUR', 'JALNA',\n",
       "       'HINGOLI', 'AKOLA', 'AMRAVATI', 'BHANDARA', 'BULDHANA',\n",
       "       'CHANDRAPUR', 'NAGPUR', 'YAVATMAL', 'WARDHA', 'GADCHIROLI',\n",
       "       'WASHIM', 'GONDIA', 'BASTAR', 'DURG', 'RAIGARH', 'RAIPUR',\n",
       "       'SURGUJA', 'RAJNANDGAON', 'DANTEWADA', 'KANKER (NORH',\n",
       "       'JANJGIR-CHAMP', 'KORBA', 'JASHPUR', 'DHAMTARI', 'MAHASAMUND',\n",
       "       'KORIYA', 'KOWARDHA (KAB', 'NARAYANPUR', 'BIJAPUR',\n",
       "       'EAST GODAVARI', 'WEST GODAVARI', 'GUNTUR', 'KRISHNA', 'NELLORE',\n",
       "       'PRAKASAM', 'SRIKAKULAM', 'VISAKHAPATNAM', 'VIZIANAGARAM',\n",
       "       'ADILABAD', 'HYDERABAD', 'KARIMNAGAR', 'KHAMMAM', 'MAHABUBNAGAR',\n",
       "       'MEDAK', 'NALGONDA', 'NIZAMABAD', 'WARANGAL', 'RANGAREDDY',\n",
       "       'ANANTAPUR', 'CHITTOOR', 'KUDDAPAH', 'KURNOOL', 'VELLORE',\n",
       "       'COIMBATORE', 'DHARMAPURI', 'KANYAKUMARI', 'CHENNAI', 'MADURAI',\n",
       "       'NILGIRIS', 'RAMANATHAPURA', 'SALEM', 'THANJAVUR', 'TIRUCHIRAPPAL',\n",
       "       'TIRUNELVELI', 'ERODE', 'PUDUKKOTTAI', 'DINDIGUL', 'VIRUDHUNAGAR',\n",
       "       'SIVAGANGA', 'THOOTHUKUDI', 'TIRUVANNAMALA', 'NAGAPATTINAM',\n",
       "       'VILUPPURAM', 'CUDDALORE', 'KANCHIPURAM', 'TIRUVALLUR', 'THENI',\n",
       "       'NAMAKKAL', 'KARUR', 'PERAMBALUR', 'TIRUVARUR', 'KRISHNAGIRI',\n",
       "       'ARIYALUR', 'TIRUPUR', 'PONDICHERRY', 'KARAIKAL', 'MAHE', 'YANAM',\n",
       "       'UTTAR KANNADA', 'DAKSHIN KANDA', 'UDUPI', 'BELGAM', 'BIDAR',\n",
       "       'DHARWAD', 'GULBARGA', 'YADGIR', 'RAICHUR', 'BAGALKOTE', 'GADAG',\n",
       "       'HAVERI', 'KOPPAL', 'BANGALORE RUR', 'BELLARY', 'CHIKMAGALUR',\n",
       "       'CHITRADURGA', 'KODAGU', 'HASSAN', 'KOLAR', 'MANDYA', 'MYSORE',\n",
       "       'SHIMOGA', 'TUMKUR', 'BANGALORE URB', 'CHAMARAJANAGA', 'DAVANGERE',\n",
       "       'RAMNAGAR(BNGR)', 'CHICKBALLAPUR', 'ALAPPUZHA', 'CANNUR',\n",
       "       'ERNAKULAM', 'KOTTAYAM', 'KOZHIKODE', 'MALAPPURAM', 'PALAKKAD',\n",
       "       'KOLLAM', 'THRISSUR', 'THIRUVANANTHA', 'IDUKKI', 'KASARGOD',\n",
       "       'PATHANAMTHITTA', 'WAYANAD', 'LAKSHADWEEP'], dtype=object)"
      ]
     },
     "execution_count": 13,
     "metadata": {},
     "output_type": "execute_result"
    }
   ],
   "source": [
    "data['DISTRICT'].unique()"
   ]
  },
  {
   "cell_type": "code",
   "execution_count": 14,
   "id": "46d3fe67-6b19-433e-9937-162d5410aa1e",
   "metadata": {},
   "outputs": [],
   "source": [
    "def rainwater_harvest(rainfall_mm, rooftop_area_m2, runoff_coeff=0.8):\n",
    "    return rainfall_mm * rooftop_area_m2 * runoff_coeff\n"
   ]
  },
  {
   "cell_type": "code",
   "execution_count": 15,
   "id": "7274be45-e4a3-4b14-8522-4092621a4db3",
   "metadata": {},
   "outputs": [],
   "source": [
    "def previous_conservation(rainfall_mm, rooftop_area_m2, existing_collection_percent=0.2):\n",
    "    return rainwater_harvest(rainfall_mm, rooftop_area_m2, runoff_coeff=0.8) * existing_collection_percent\n"
   ]
  },
  {
   "cell_type": "code",
   "execution_count": 16,
   "id": "6d88a53f-7f05-4d0f-a71b-0eeff135da36",
   "metadata": {},
   "outputs": [],
   "source": [
    "def potential_water_loss(rainfall_mm, rooftop_area_m2, existing_collection_percent=0.2):\n",
    "    total_possible = rainwater_harvest(rainfall_mm, rooftop_area_m2, runoff_coeff=0.8)\n",
    "    collected = previous_conservation(rainfall_mm, rooftop_area_m2, existing_collection_percent)\n",
    "    return total_possible - collected"
   ]
  },
  {
   "cell_type": "code",
   "execution_count": 22,
   "id": "4e55ac19-fb79-457a-bf6c-c19a9827059c",
   "metadata": {},
   "outputs": [
    {
     "name": "stdout",
     "output_type": "stream",
     "text": [
      "                         State       District    JAN   FEB    MAR    APR  \\\n",
      "0  ANDAMAN And NICOBAR ISLANDS        NICOBAR  107.3  57.9   65.2  117.0   \n",
      "1  ANDAMAN And NICOBAR ISLANDS  SOUTH ANDAMAN   43.7  26.0   18.6   90.5   \n",
      "2  ANDAMAN And NICOBAR ISLANDS  N & M ANDAMAN   32.7  15.9    8.6   53.4   \n",
      "3            ARUNACHAL PRADESH          LOHIT   42.2  80.8  176.4  358.5   \n",
      "4            ARUNACHAL PRADESH     EAST SIANG   33.3  79.5  105.9  216.5   \n",
      "\n",
      "     MAY    JUN    JUL    AUG    SEP    OCT    NOV    DEC  Avg_Rainfall_mm  \\\n",
      "0  358.5  295.5  285.0  271.9  354.8  326.0  315.2  250.9           2805.2   \n",
      "1  374.4  457.2  421.3  423.1  455.6  301.2  275.8  128.3           3015.7   \n",
      "2  343.6  503.3  465.4  460.9  454.8  276.1  198.6  100.0           2913.3   \n",
      "3  306.4  447.0  660.1  427.8  313.6  167.1   34.1   29.8           3043.8   \n",
      "4  323.0  738.3  990.9  711.2  568.0  206.9   29.5   31.7           4034.7   \n",
      "\n",
      "   Jan-Feb  Mar-May  Jun-Sep  Oct-Dec  \n",
      "0    165.2    540.7   1207.2    892.1  \n",
      "1     69.7    483.5   1757.2    705.3  \n",
      "2     48.6    405.6   1884.4    574.7  \n",
      "3    123.0    841.3   1848.5    231.0  \n",
      "4    112.8    645.4   3008.4    268.1  \n",
      "Index(['State', 'District', 'JAN', 'FEB', 'MAR', 'APR', 'MAY', 'JUN', 'JUL',\n",
      "       'AUG', 'SEP', 'OCT', 'NOV', 'DEC', 'Avg_Rainfall_mm', 'Jan-Feb',\n",
      "       'Mar-May', 'Jun-Sep', 'Oct-Dec'],\n",
      "      dtype='object')\n"
     ]
    }
   ],
   "source": [
    "data.rename(columns={\n",
    "    'STATE_UT_NAME': 'State',\n",
    "    'DISTRICT': 'District',\n",
    "    'ANNUAL': 'Avg_Rainfall_mm'\n",
    "}, inplace=True)\n",
    "\n",
    "\n",
    "print(data.head())\n",
    "print(data.columns)"
   ]
  },
  {
   "cell_type": "code",
   "execution_count": 26,
   "id": "e3ec2a95-4e35-4ae1-b3f3-fd51a1b00e1e",
   "metadata": {},
   "outputs": [
    {
     "name": "stdout",
     "output_type": "stream",
     "text": [
      "                         State       District  Avg_Rainfall_mm\n",
      "0  ANDAMAN AND NICOBAR ISLANDS        NICOBAR           2805.2\n",
      "1  ANDAMAN AND NICOBAR ISLANDS  SOUTH ANDAMAN           3015.7\n",
      "2  ANDAMAN AND NICOBAR ISLANDS  N & M ANDAMAN           2913.3\n",
      "3            ARUNACHAL PRADESH          LOHIT           3043.8\n",
      "4            ARUNACHAL PRADESH     EAST SIANG           4034.7\n"
     ]
    }
   ],
   "source": [
    "data['State'] = data['State'].str.strip().str.upper()\n",
    "data['District'] = data['District'].str.strip().str.upper()\n",
    "\n",
    "print(data[['State','District','Avg_Rainfall_mm']].head())\n"
   ]
  },
  {
   "cell_type": "markdown",
   "id": "6b0cc5a1-4581-47c1-bdf0-8881febb68a5",
   "metadata": {},
   "source": [
    "**RAINWATER HARVESTING  POTENTIAL**\n"
   ]
  },
  {
   "cell_type": "code",
   "execution_count": 30,
   "id": "a3b659ad-3939-4e92-80cc-97b69f353dd3",
   "metadata": {},
   "outputs": [
    {
     "name": "stdin",
     "output_type": "stream",
     "text": [
      "Enter your State:  ARUNACHAL PRADESH\n",
      "Enter your District:  LOHIT\n"
     ]
    },
    {
     "name": "stdout",
     "output_type": "stream",
     "text": [
      "Average Rainfall in LOHIT: 3043.8 mm/year\n",
      "\n",
      "Estimated Rainwater Harvested per 1 m²: 2435.04 liters/year\n",
      "Previously Collected Water per 1 m²: 487.01 liters/year\n",
      "Potential Water Loss per 1 m²: 1948.03 liters/year\n"
     ]
    }
   ],
   "source": [
    "user_state = input(\"Enter your State: \").strip().upper()\n",
    "user_district = input(\"Enter your District: \").strip().upper()\n",
    "district_data = data[(data['State'] == user_state) & (data['District'] == user_district)]\n",
    "\n",
    "if district_data.empty:\n",
    "    print(\"District data not found! Check spelling.\")\n",
    "else:\n",
    "    avg_rainfall = district_data['Avg_Rainfall_mm'].values[0]\n",
    "    print(f\"Average Rainfall in {user_district}: {avg_rainfall} mm/year\")\n",
    "    harvested = rainwater_harvest(avg_rainfall, 1)\n",
    "    prev_collected = previous_conservation(avg_rainfall, 1)\n",
    "    water_loss = potential_water_loss(avg_rainfall, 1)\n",
    "\n",
    "    print(f\"\\nEstimated Rainwater Harvested per 1 m²: {harvested:.2f} liters/year\")\n",
    "    print(f\"Previously Collected Water per 1 m²: {prev_collected:.2f} liters/year\")\n",
    "    print(f\"Potential Water Loss per 1 m²: {water_loss:.2f} liters/year\")\n",
    "\n"
   ]
  },
  {
   "cell_type": "markdown",
   "id": "d4e75ddc-d5e1-4991-b1b7-f13e09b88211",
   "metadata": {},
   "source": [
    "**SEASONAL RAINFALL INSIGHTS**"
   ]
  },
  {
   "cell_type": "code",
   "execution_count": 31,
   "id": "e7f35a78-c333-4acb-9ecf-571a04ec6bb0",
   "metadata": {},
   "outputs": [
    {
     "name": "stdout",
     "output_type": "stream",
     "text": [
      "Seasonal Rainwater Harvested (per 1 m²):\n",
      "Jan-Feb: 98.40 liters\n",
      "Mar-May: 673.04 liters\n",
      "Jun-Sep: 1478.80 liters\n",
      "Oct-Dec: 184.80 liters\n"
     ]
    }
   ],
   "source": [
    "seasons = ['Jan-Feb', 'Mar-May', 'Jun-Sep', 'Oct-Dec']\n",
    "seasonal_harvest = {}\n",
    "\n",
    "for season in seasons:\n",
    "    seasonal_rainfall = district_data[season].values[0]\n",
    "    seasonal_harvest[season] = rainwater_harvest(seasonal_rainfall, 1)  # per 1 m²\n",
    "\n",
    "print(\"Seasonal Rainwater Harvested (per 1 m²):\")\n",
    "for season, water in seasonal_harvest.items():\n",
    "    print(f\"{season}: {water:.2f} liters\")"
   ]
  },
  {
   "cell_type": "code",
   "execution_count": 33,
   "id": "75ddf771-e694-47b0-b5bf-f81d45b1ddec",
   "metadata": {},
   "outputs": [
    {
     "name": "stdout",
     "output_type": "stream",
     "text": [
      " Monsoon period (highest water potential): Jun-Sep\n"
     ]
    }
   ],
   "source": [
    "print(\" Monsoon period (highest water potential): Jun-Sep\")\n"
   ]
  },
  {
   "cell_type": "markdown",
   "id": "375b0b50-798b-48de-97e6-8387503e8139",
   "metadata": {},
   "source": [
    "**WATER POTENTIAL FOR MULTIPLE ROOFTOPS**"
   ]
  },
  {
   "cell_type": "code",
   "execution_count": 34,
   "id": "bb0d42dc-5660-4050-9c0c-d1f67b9b8e67",
   "metadata": {},
   "outputs": [
    {
     "name": "stdin",
     "output_type": "stream",
     "text": [
      "Enter number of households:  4\n"
     ]
    },
    {
     "name": "stdout",
     "output_type": "stream",
     "text": [
      "\n",
      "Total Estimated Water Harvested: 9740.16 liters/year\n",
      "Total Previously Collected Water: 1948.03 liters/year\n",
      "Total Potential Water Loss: 7792.13 liters/year\n"
     ]
    }
   ],
   "source": [
    "num_households = int(input(\"Enter number of households: \"))\n",
    "\n",
    "total_harvested = harvested * num_households\n",
    "total_prev_collected = prev_collected * num_households\n",
    "total_water_loss = water_loss * num_households\n",
    "\n",
    "print(f\"\\nTotal Estimated Water Harvested: {total_harvested:.2f} liters/year\")\n",
    "print(f\"Total Previously Collected Water: {total_prev_collected:.2f} liters/year\")\n",
    "print(f\"Total Potential Water Loss: {total_water_loss:.2f} liters/year\")\n"
   ]
  },
  {
   "cell_type": "markdown",
   "id": "ef399bde-05cf-4938-a6d6-37023f13f923",
   "metadata": {},
   "source": [
    "**COMPARISON WITH HISTORICAL AVERAGES**"
   ]
  },
  {
   "cell_type": "code",
   "execution_count": 35,
   "id": "e60a8f78-0669-491b-957c-1f47c577cc97",
   "metadata": {},
   "outputs": [
    {
     "name": "stdin",
     "output_type": "stream",
     "text": [
      "Enter current annual rainfall in mm:  456\n"
     ]
    },
    {
     "name": "stdout",
     "output_type": "stream",
     "text": [
      "Rainfall this year (456.0 mm) is below the average (3043.8 mm).\n"
     ]
    }
   ],
   "source": [
    "current_rainfall = float(input(\"Enter current annual rainfall in mm: \"))\n",
    "average_rainfall = district_data['Avg_Rainfall_mm'].values[0]\n",
    "\n",
    "if current_rainfall > average_rainfall:\n",
    "    print(f\"Rainfall this year ({current_rainfall} mm) is above the average ({average_rainfall} mm).\")\n",
    "else:\n",
    "    print(f\"Rainfall this year ({current_rainfall} mm) is below the average ({average_rainfall} mm).\")\n"
   ]
  },
  {
   "cell_type": "markdown",
   "id": "de926574-29b7-4b67-8c92-7ec5f5ac4a5c",
   "metadata": {},
   "source": [
    "**POTENTIAL SAVINGS**"
   ]
  },
  {
   "cell_type": "code",
   "execution_count": 38,
   "id": "d1d2b31e-3217-4e95-b81f-dc6007891bb4",
   "metadata": {},
   "outputs": [
    {
     "name": "stdin",
     "output_type": "stream",
     "text": [
      "Enter number of households:  7\n"
     ]
    },
    {
     "name": "stdout",
     "output_type": "stream",
     "text": [
      "Potential Water Savings for 7 households:\n",
      "Gardening: 5681.76 liters/year\n",
      "Toilet Flushing: 5681.76 liters/year\n",
      "Washing: 5681.76 liters/year\n"
     ]
    }
   ],
   "source": [
    "\n",
    "num_households = int(input(\"Enter number of households: \"))\n",
    "garden_per_m2 = harvested / 3\n",
    "toilet_per_m2 = harvested / 3\n",
    "washing_per_m2 = harvested / 3\n",
    "garden_total = garden_per_m2 * num_households\n",
    "toilet_total = toilet_per_m2 * num_households\n",
    "washing_total = washing_per_m2 * num_households\n",
    "\n",
    "print(f\"Potential Water Savings for {num_households} households:\")\n",
    "print(f\"Gardening: {garden_total:.2f} liters/year\")\n",
    "print(f\"Toilet Flushing: {toilet_total:.2f} liters/year\")\n",
    "print(f\"Washing: {washing_total:.2f} liters/year\")\n"
   ]
  },
  {
   "cell_type": "markdown",
   "id": "d5595c45-3b3a-456e-8882-b7e28d1d73b4",
   "metadata": {},
   "source": [
    "**AWARENESS CHARTS**"
   ]
  },
  {
   "cell_type": "code",
   "execution_count": 39,
   "id": "e2b72c96-daff-468e-8c5f-29677564cccd",
   "metadata": {},
   "outputs": [
    {
     "data": {
      "image/png": "[encoded data removed]",
      "text/plain": [
       "<Figure size 800x500 with 1 Axes>"
      ]
     },
     "metadata": {},
     "output_type": "display_data"
    }
   ],
   "source": [
    "labels = ['Previously Collected', 'Potential Water Loss', 'Estimated Harvested']\n",
    "values = [prev_collected*num_households, water_loss*num_households, harvested*num_households]\n",
    "colors = ['green', 'red', 'blue']\n",
    "\n",
    "plt.figure(figsize=(8,5))\n",
    "plt.bar(labels, values, color=colors)\n",
    "plt.ylabel(\"Water (liters/year)\")\n",
    "plt.title(f\"Rainwater Harvesting Potential for {user_district} ({num_households} households)\")\n",
    "plt.show()"
   ]
  },
  {
   "cell_type": "code",
   "execution_count": 40,
   "id": "e5356e16-fde6-4aa5-8fe1-60270b0a91c6",
   "metadata": {},
   "outputs": [
    {
     "data": {
      "image/png": "[encoded data removed]",
      "text/plain": [
       "<Figure size 600x600 with 1 Axes>"
      ]
     },
     "metadata": {},
     "output_type": "display_data"
    }
   ],
   "source": [
    "savings_labels = ['Gardening', 'Toilet Flushing', 'Washing']\n",
    "savings_values = [garden_total, toilet_total, washing_total]\n",
    "savings_colors = ['#4CAF50', '#2196F3', '#FF9800']\n",
    "\n",
    "plt.figure(figsize=(6,6))\n",
    "plt.pie(savings_values, labels=savings_labels, colors=savings_colors, autopct='%1.1f%%', startangle=90)\n",
    "plt.title(f\"Potential Water Savings per {num_households} Households\")\n",
    "plt.show()"
   ]
  },
  {
   "cell_type": "code",
   "execution_count": 41,
   "id": "ab34d35b-b2ce-40d6-a4c0-4e4e0f509ce6",
   "metadata": {},
   "outputs": [
    {
     "data": {
      "image/png": "[encoded data removed]",
      "text/plain": [
       "<Figure size 800x500 with 1 Axes>"
      ]
     },
     "metadata": {},
     "output_type": "display_data"
    }
   ],
   "source": [
    "seasons = ['Jan-Feb', 'Mar-May', 'Jun-Sep', 'Oct-Dec']\n",
    "seasonal_harvest = {season: rainwater_harvest(district_data[season].values[0], 1)*num_households for season in seasons}\n",
    "\n",
    "plt.figure(figsize=(8,5))\n",
    "plt.bar(seasonal_harvest.keys(), seasonal_harvest.values(), color='skyblue')\n",
    "plt.ylabel(\"Water (liters/year)\")\n",
    "plt.title(f\"Seasonal Rainwater Harvest Potential for {user_district} ({num_households} households)\")\n",
    "plt.show()"
   ]
  },
  {
   "cell_type": "code",
   "execution_count": 43,
   "id": "03491548-3f72-404a-94c2-a12a9a559290",
   "metadata": {},
   "outputs": [
    {
     "name": "stdout",
     "output_type": "stream",
     "text": [
      "Water Awareness Quote:\n",
      "🌱 Rainwater is precious — harvest it wisely.\n"
     ]
    }
   ],
   "source": [
    "import random\n",
    "water_quotes = [\n",
    "    \"💧 Save water, save life.\",\n",
    "    \"🌿 Every drop counts — conserve water!\",\n",
    "    \"🚰 Don’t let our future go down the drain.\",\n",
    "    \"💦 Water is life — don’t waste it.\",\n",
    "    \"🌱 Rainwater is precious — harvest it wisely.\",\n",
    "    \"💧 Conserve water today, ensure life tomorrow.\",\n",
    "    \"🌍 Protect water, protect the planet.\",\n",
    "    \"💦 Small actions, big impact — save water!\",\n",
    "]\n",
    "\n",
    "\n",
    "print(\"Water Awareness Quote:\")\n",
    "print(random.choice(water_quotes))\n"
   ]
  },
  {
   "cell_type": "code",
   "execution_count": null,
   "id": "70fbb9dc-7849-4568-8284-ab126b1fec03",
   "metadata": {},
   "outputs": [],
   "source": []
  }
 ],
 "metadata": {
  "kernelspec": {
   "display_name": "Python 3 (ipykernel)",
   "language": "python",
   "name": "python3"
  },
  "language_info": {
   "codemirror_mode": {
    "name": "ipython",
    "version": 3
   },
   "file_extension": ".py",
   "mimetype": "text/x-python",
   "name": "python",
   "nbconvert_exporter": "python",
   "pygments_lexer": "ipython3",
   "version": "3.12.7"
  }
 },
 "nbformat": 4,
 "nbformat_minor": 5
}
